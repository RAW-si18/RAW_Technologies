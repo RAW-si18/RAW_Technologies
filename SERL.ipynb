{
  "nbformat": 4,
  "nbformat_minor": 0,
  "metadata": {
    "colab": {
      "provenance": [],
      "include_colab_link": true
    },
    "kernelspec": {
      "name": "python3",
      "display_name": "Python 3"
    },
    "language_info": {
      "name": "python"
    }
  },
  "cells": [
    {
      "cell_type": "markdown",
      "metadata": {
        "id": "view-in-github",
        "colab_type": "text"
      },
      "source": [
        "<a href=\"https://colab.research.google.com/github/RAW-si18/RAW_Technologies/blob/main/SERL.ipynb\" target=\"_parent\"><img src=\"https://colab.research.google.com/assets/colab-badge.svg\" alt=\"Open In Colab\"/></a>"
      ]
    },
    {
      "cell_type": "markdown",
      "source": [
        "# **AI**\n",
        "---"
      ],
      "metadata": {
        "id": "9GMazSGgpGvj"
      }
    },
    {
      "cell_type": "markdown",
      "source": [
        "**Level 1**"
      ],
      "metadata": {
        "id": "fr-vC6D-qrJR"
      }
    },
    {
      "cell_type": "markdown",
      "source": [
        "*   Python Programming\n",
        "*   Basic Mathematics\n",
        "*   File Handling\n",
        "*   MySQL\n",
        "*   What is Artificial Intelligence?\n",
        "*   Basic differentiation between NLP ,ML & DL"
      ],
      "metadata": {
        "id": "ukQPXk0Oq1II"
      }
    },
    {
      "cell_type": "markdown",
      "source": [
        "# File Handling\n",
        "1. file_object = open(file_address, mode='r', buffering=-1, encoding=None, errors=None, newline=None, closefd=True, opener=None)\n",
        "> * buffering: something like cache memory i.e. buffer is efficient for 'r' mode while unbuffer is more efficient with 'w' mode.\n",
        ">> - -1 {Default and buffer ON}\n",
        ">> - 0 {buffer OFF}\n",
        ">> - (any positive int value) {Specifies the buffer size in bytes}\n",
        "> * encoding: determines how char are converted to bytes when write and how bytes are interpreted as char when read.\n",
        ">> - 'utf-8' {Default gives Unicode text covers many languages and symbols}\n",
        ">> - 'ascii' {English alphabet, numbers, and some special characters}\n",
        ">> - 'latin-1' {characters from Western European languages}\n",
        ">> - many other like 'cp1252', 'utf-16', 'utf-32' {we use different encoding because utf-8 doesn't work on legacy system which are based on ascii or other}\n",
        "> * errors: specify how encoding and decoding errors should be handled.\n",
        ">> - 'strict' {raises a UnicodeError exception}\n",
        ">> - 'ignore' {ignores the characters that cannot be encoded and continue but leads in data loss}\n",
        ">> - 'replace' {replaces the char that can't be encoded or decoded with char usually '�'or '?'}\n",
        ">> - 'backslashreplace' {replaces char can't be encode or decode to \\xhh or any replacement hexadecimal value}\n",
        "> * newline: control how line endings are handled.\n",
        ">> - None {default treats \\n, \\r, \\r\\n as newline means enter when it sees this}\n",
        ">> - '' {disables universal newlines and will literally prints \\n and all}\n",
        ">> - anything written inside '' will be considered as newline char\n",
        "2. file_object.close()\n",
        "> closes the file and frees memory.\n",
        "3. text_data = file_object.read(size)\n",
        "> * size: Read and return the entire content of the file or a specified number of bytes.\n",
        ">> - -1 or (any negative int value) {Default read complete data}\n",
        ">> - 0 {returns empty string}\n",
        ">> - (any positive int value) {read n bytes if n= int value of size}\n",
        "4. text_data = file_object.readline(size)\n",
        "> * size:\n",
        ">> - -1 {Default reads until it reaches the end of the line}\n",
        ">> - 0 {empty string returns}\n",
        ">> - (any positive value) {upto that bytes}\n",
        "5. text_data = file_object.readlines(hint)\n",
        "> read all lines of a file and return list of strings.\n",
        "> * hint:\n",
        ">> - -1 {Default untill file end}\n",
        ">> - (any positive value) {from every line n bytes untill eol}\n",
        "6. file_object.write(string)\n",
        "> writes string in file but doesn't include \\n at end.\n",
        "7. file_object.writelines(lines)\n",
        "> write lines and takes lines as iterables like list, tuple or generator.\n",
        "8. file_object.seek(offset, whence)\n",
        "> change the current cursor location in file.\n",
        "> * offset: right or left move from reference.\n",
        ">> - (any positive int) {move right n bytes of offset point}\n",
        ">> - (any negative int) {move left n bytes of offset point}\n",
        "> * whence: a reference point/ current cursor location.\n",
        ">> - 0 {Default calculated relative to the beginning}\n",
        ">> - 1 {relative to the current file position}\n",
        ">> - 2 {relative to the end of the file}\n",
        "9. current_position = file_object.tell()\n",
        "> tells cursor location (index).\n",
        "10. bool_condition = file_object.closed\n",
        "> return bool whether file is close or not.\n",
        "11. file_object.flush()\n",
        "> clears the buffer memory.\n",
        "---\n",
        "# Modes:\n",
        "> * 'r'/'rb' {default read only}\n",
        "> * 'w'/'wb' {write only, file not exit then created, overwrite}\n",
        "> * 'a'/'ab' {append,file not exit then created , retain}\n",
        "> * 'r+'/'rb+' {read & write}\n",
        "> * 'w+'/'wb+' {write & read, file not exit then created, overwrite}\n",
        "> * 'a+'/'ab+' {write & read, file not exit then created, retain}\n",
        "---\n",
        "# pickle module\n",
        "> * write other to binary file\n",
        ">> with open('data_list.pickle', 'wb') as file:\n",
        ">>>  pickle.dump(data_list, file)\n",
        "> * read other to binary file\n",
        ">> with open('data_list.pickle', 'rb') as file:\n",
        ">>> restored_data_list = pickle.load(file)\n",
        "---\n",
        "# CSV module\n",
        "> with open('data.csv', newline='') as csvfile:\n",
        "> * csv.reader(csvfile, delimiter=',', quotechar='\"')\n",
        ">> - reader is class\n",
        ">> - if we do for i in reader then will return list of each row like ['1','RAW']\n",
        ">> - quotechar: specifies the character used to enclose fields containing special characters (default is double quote \")\n",
        "> * writer = csv.writer(csvfile)\n",
        ">> - writer is class\n",
        ">> - writer.writerows(data)\n",
        ">> - data =\n",
        "        [['Name', 'Age', 'City'],\n",
        "        ['Alice', 25, 'London'],\n",
        "        ['Bob', 30, 'New York']]\n",
        ">> - data should be in 2-d array\n",
        "> * reader = csv.DictReader(csvfile)\n",
        ">> for row in reader:\n",
        ">>> print(row['Name'], row['Age'], row['City'])\n",
        "> fieldnames = ['Name', 'Age', 'City']\n",
        "\n",
        ">*  writer = csv.DictWriter(csvfile, fieldnames=fieldnames)\n",
        ">>  writer.writeheader()\n",
        ">>> writer.writerow({'Name': 'Alice', 'Age': 25, 'City': 'London'})\n"
      ],
      "metadata": {
        "id": "qSf6rDoI35Fy"
      }
    }
  ]
}